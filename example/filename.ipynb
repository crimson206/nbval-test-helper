{
 "cells": [
  {
   "cell_type": "code",
   "execution_count": 3,
   "metadata": {},
   "outputs": [
    {
     "data": {
      "text/plain": [
       "'crimson/nbval_test_helper/filename.py'"
      ]
     },
     "execution_count": 3,
     "metadata": {},
     "output_type": "execute_result"
    }
   ],
   "source": [
    "from crimson.nbval_test_helper.filename import normalize_filename\n",
    "import crimson.nbval_test_helper.filename as filename\n",
    "\n",
    "normalize_filename(filename.__file__, keep_last=3)"
   ]
  }
 ],
 "metadata": {
  "kernelspec": {
   "display_name": "nbval-test-helper",
   "language": "python",
   "name": "python3"
  },
  "language_info": {
   "codemirror_mode": {
    "name": "ipython",
    "version": 3
   },
   "file_extension": ".py",
   "mimetype": "text/x-python",
   "name": "python",
   "nbconvert_exporter": "python",
   "pygments_lexer": "ipython3",
   "version": "3.10.16"
  }
 },
 "nbformat": 4,
 "nbformat_minor": 2
}
